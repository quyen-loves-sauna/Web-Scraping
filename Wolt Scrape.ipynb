{
 "cells": [
  {
   "cell_type": "code",
   "execution_count": 8,
   "id": "0215c389",
   "metadata": {},
   "outputs": [],
   "source": [
    "import pandas as pd\n",
    "import urllib.request\n",
    "from urllib.parse import urlparse\n",
    "from bs4 import BeautifulSoup\n",
    "import re"
   ]
  },
  {
   "cell_type": "code",
   "execution_count": 2,
   "id": "a10def55",
   "metadata": {},
   "outputs": [],
   "source": [
    "def get_page(url):\n",
    "    \"\"\"Scrapes a URL and returns the HTML source.\n",
    "\n",
    "    Args:\n",
    "        url (string): Fully qualified URL of a page.\n",
    "\n",
    "    Returns:\n",
    "        soup (string): HTML source of scraped page.\n",
    "    \"\"\"\n",
    "\n",
    "    response = urllib.request.urlopen(url)\n",
    "    soup = BeautifulSoup(response, \n",
    "                         'html.parser', \n",
    "                         from_encoding=response.info().get_param('charset'))\n",
    "\n",
    "    return soup"
   ]
  },
  {
   "cell_type": "code",
   "execution_count": 3,
   "id": "14b2ccd6",
   "metadata": {},
   "outputs": [],
   "source": [
    "soup = get_page(\"https://wolt.com\")"
   ]
  },
  {
   "cell_type": "code",
   "execution_count": 4,
   "id": "a2ab866d",
   "metadata": {},
   "outputs": [],
   "source": [
    "def get_description(soup):\n",
    "    \"\"\"Return the meta description content\n",
    "\n",
    "    Args:\n",
    "        soup: HTML code from Beautiful Soup\n",
    "        \n",
    "    Returns: \n",
    "        value (string): Parsed value\n",
    "    \"\"\"\n",
    "\n",
    "    if soup.findAll(\"meta\", attrs={\"name\": \"description\"}):\n",
    "        return soup.find(\"meta\", attrs={\"name\": \"description\"}).get(\"content\")\n",
    "    else:\n",
    "        return\n",
    "\n",
    "    return"
   ]
  },
  {
   "cell_type": "code",
   "execution_count": 5,
   "id": "e15ccb8c",
   "metadata": {},
   "outputs": [
    {
     "data": {
      "text/plain": [
       "'Wolt delivers from the best restaurants and stores around you.'"
      ]
     },
     "execution_count": 5,
     "metadata": {},
     "output_type": "execute_result"
    }
   ],
   "source": [
    "meta = get_description(soup)\n",
    "meta"
   ]
  },
  {
   "cell_type": "code",
   "execution_count": 9,
   "id": "7945116f",
   "metadata": {},
   "outputs": [
    {
     "name": "stdout",
     "output_type": "stream",
     "text": [
      "     Branch                                 Address\n",
      "0  @woltapp  diankatu 600100 HelsinkiSuomi, Finland\n"
     ]
    }
   ],
   "source": [
    "page = requests.get(\"https://wolt.com/en/contact\")\n",
    "soup = BeautifulSoup(page.text, 'html.parser').find_all('div', class_=\"Text__Root-sc-nj99q2-0 gqeGcd Text-module__textContent___FMj0x\")\n",
    "\n",
    "data = []\n",
    "for div in soup:\n",
    "    branch = div.find(\"strong\").getText()\n",
    "    address = div.find(\"p\").getText(strip=True)\n",
    "    data.append([branch, re.sub(r\"Telp.+\", \"\", address[len(branch):])])\n",
    "\n",
    "print(pd.DataFrame(data, columns=[\"Branch\", \"Address\"]))"
   ]
  },
  {
   "cell_type": "code",
   "execution_count": null,
   "id": "c424de61",
   "metadata": {},
   "outputs": [],
   "source": []
  }
 ],
 "metadata": {
  "kernelspec": {
   "display_name": "Python 3 (ipykernel)",
   "language": "python",
   "name": "python3"
  },
  "language_info": {
   "codemirror_mode": {
    "name": "ipython",
    "version": 3
   },
   "file_extension": ".py",
   "mimetype": "text/x-python",
   "name": "python",
   "nbconvert_exporter": "python",
   "pygments_lexer": "ipython3",
   "version": "3.9.7"
  }
 },
 "nbformat": 4,
 "nbformat_minor": 5
}
